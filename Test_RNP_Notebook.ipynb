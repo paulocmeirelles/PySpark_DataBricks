{
 "cells": [
  {
   "cell_type": "code",
   "execution_count": 0,
   "metadata": {
    "application/vnd.databricks.v1+cell": {
     "cellMetadata": {
      "byteLimit": 2048000,
      "rowLimit": 10000
     },
     "inputWidgets": {},
     "nuid": "642f1d31-7f77-4d42-950a-16ae21643742",
     "showTitle": false,
     "title": ""
    }
   },
   "outputs": [],
   "source": [
    "# Defyning variables to connect with db\n",
    "driver = \"org.postgresql.Driver\"\n",
    "database_host = \"psql-mock-database-cloud.postgres.database.azure.com\"\n",
    "database_port = \"5432\" # update if you use a non-default port\n",
    "database_name = \"ecom1689953593876hxincshnhoiqouxc\"\n",
    "user = \"leimsgqkzowufdayhgewwwrf@psql-mock-database-cloud\"\n",
    "password = \"dujntukagjbgkgkuejjjjcik\""
   ]
  },
  {
   "cell_type": "code",
   "execution_count": 0,
   "metadata": {
    "application/vnd.databricks.v1+cell": {
     "cellMetadata": {
      "byteLimit": 2048000,
      "rowLimit": 10000
     },
     "inputWidgets": {},
     "nuid": "43dba527-2f61-4112-982c-e6a310654dc6",
     "showTitle": false,
     "title": ""
    }
   },
   "outputs": [],
   "source": [
    "# uri connection with db\n",
    "url = f\"jdbc:postgresql://{database_host}:{database_port}/{database_name}\""
   ]
  },
  {
   "cell_type": "code",
   "execution_count": 0,
   "metadata": {
    "application/vnd.databricks.v1+cell": {
     "cellMetadata": {
      "byteLimit": 2048000,
      "rowLimit": 10000
     },
     "inputWidgets": {},
     "nuid": "ed0e380c-dc66-4983-b987-7a0fee452839",
     "showTitle": false,
     "title": ""
    }
   },
   "outputs": [],
   "source": [
    "import pyspark\n",
    "from pyspark.sql.functions import col, asc,desc, sum, regexp_replace"
   ]
  },
  {
   "cell_type": "code",
   "execution_count": 0,
   "metadata": {
    "application/vnd.databricks.v1+cell": {
     "cellMetadata": {
      "byteLimit": 2048000,
      "rowLimit": 10000
     },
     "inputWidgets": {},
     "nuid": "b94d6199-0b03-4606-96d3-28e4792ca92d",
     "showTitle": false,
     "title": ""
    }
   },
   "outputs": [],
   "source": [
    "# Questão 1\n",
    "\n",
    "# bringing table orders\n",
    "table = \"orders\"\n",
    "df_orders = (spark.read\n",
    "  .format(\"jdbc\")\n",
    "  .option(\"driver\", driver)\n",
    "  .option(\"url\", url)\n",
    "  .option(\"dbtable\", table)\n",
    "  .option(\"user\", user)\n",
    "  .option(\"password\", password)\n",
    "  .load()\n",
    ")\n",
    "\n",
    "# bringing table orderdetails\n",
    "table = \"orderdetails\"\n",
    "df_orderdetails = (spark.read\n",
    "  .format(\"jdbc\")\n",
    "  .option(\"driver\", driver)\n",
    "  .option(\"url\", url)\n",
    "  .option(\"dbtable\", table)\n",
    "  .option(\"user\", user)\n",
    "  .option(\"password\", password)\n",
    "  .load()\n",
    ")\n",
    "\n",
    "# bringing table customers\n",
    "table = \"customers\"\n",
    "df_customers = (spark.read\n",
    "  .format(\"jdbc\")\n",
    "  .option(\"driver\", driver)\n",
    "  .option(\"url\", url)\n",
    "  .option(\"dbtable\", table)\n",
    "  .option(\"user\", user)\n",
    "  .option(\"password\", password)\n",
    "  .load()\n",
    ")\n"
   ]
  },
  {
   "cell_type": "code",
   "execution_count": 0,
   "metadata": {
    "application/vnd.databricks.v1+cell": {
     "cellMetadata": {
      "byteLimit": 2048000,
      "rowLimit": 10000
     },
     "inputWidgets": {},
     "nuid": "4e402aa3-a12a-4a40-bacf-41d00d652e13",
     "showTitle": false,
     "title": ""
    }
   },
   "outputs": [
    {
     "output_type": "stream",
     "name": "stdout",
     "output_type": "stream",
     "text": [
      "+-----------+---------------------+\n|    country|sum(quantity_ordered)|\n+-----------+---------------------+\n|      Spain|                  605|\n|New Zealand|                  596|\n|     Sweden|                  550|\n|        USA|                  454|\n|         UK|                  429|\n+-----------+---------------------+\n\n"
     ]
    }
   ],
   "source": [
    "df_question_1 = df_orders.join(df_orderdetails, on='order_number',how='inner')\n",
    "df_question_1 = df_question_1.join(df_customers, how='inner',on='customer_number')\n",
    "df_question_1 = df_question_1.filter(df_question_1[\"status\"]=='Cancelled')\n",
    "df_question_1 = df_question_1.select('country','quantity_ordered').groupBy('country').sum('quantity_ordered')\n",
    "df_question_1.orderBy(col('sum(quantity_ordered)').desc()).show()\n",
    "# RESPOSTA: Espanha foi o país com maior quantidade de items cancelados"
   ]
  },
  {
   "cell_type": "code",
   "execution_count": 0,
   "metadata": {
    "application/vnd.databricks.v1+cell": {
     "cellMetadata": {
      "byteLimit": 2048000,
      "rowLimit": 10000
     },
     "inputWidgets": {},
     "nuid": "742abe70-431d-4063-9b88-06d3a8738e99",
     "showTitle": false,
     "title": ""
    }
   },
   "outputs": [],
   "source": [
    "# Questão 2\n",
    "\n",
    "# bringing table orders\n",
    "table = \"orders\"\n",
    "df_orders = (spark.read\n",
    "  .format(\"jdbc\")\n",
    "  .option(\"driver\", driver)\n",
    "  .option(\"url\", url)\n",
    "  .option(\"dbtable\", table)\n",
    "  .option(\"user\", user)\n",
    "  .option(\"password\", password)\n",
    "  .load()\n",
    ")\n",
    "\n",
    "# bringing table orderdetails\n",
    "table = \"orderdetails\"\n",
    "df_orderdetails = (spark.read\n",
    "  .format(\"jdbc\")\n",
    "  .option(\"driver\", driver)\n",
    "  .option(\"url\", url)\n",
    "  .option(\"dbtable\", table)\n",
    "  .option(\"user\", user)\n",
    "  .option(\"password\", password)\n",
    "  .load()\n",
    ")\n",
    "\n",
    "# bringing table products\n",
    "table = \"products\"\n",
    "df_products = (spark.read\n",
    "  .format(\"jdbc\")\n",
    "  .option(\"driver\", driver)\n",
    "  .option(\"url\", url)\n",
    "  .option(\"dbtable\", table)\n",
    "  .option(\"user\", user)\n",
    "  .option(\"password\", password)\n",
    "  .load()\n",
    ")"
   ]
  },
  {
   "cell_type": "code",
   "execution_count": 0,
   "metadata": {
    "application/vnd.databricks.v1+cell": {
     "cellMetadata": {
      "byteLimit": 2048000,
      "rowLimit": 10000
     },
     "inputWidgets": {},
     "nuid": "901c264a-c597-436c-b228-5e5e4741ed1c",
     "showTitle": false,
     "title": ""
    }
   },
   "outputs": [],
   "source": [
    "df_question_2 = df_orders.join(df_orderdetails, on='order_number',how='inner')\n",
    "df_question_2 = df_question_2.join(df_products, how='inner',on='product_code')\n",
    "df_question_2 = df_question_2.filter((col('order_date').startswith('2005')) & (col('status')=='Shipped'))\n",
    "grouped = df_question_2.select('product_code','product_name','price_each','quantity_ordered').groupBy('product_code').sum('quantity_ordered').orderBy(col('sum(quantity_ordered)').desc())\n",
    "grouped.select('product_code')\n",
    "#S18_3232 is the best seller\n",
    "df_question_2 = df_question_2.filter(col('product_code')=='S18_3232').select('product_code','product_name','price_each','quantity_ordered')\n",
    "df_question_2 = df_question_2.withColumn('total', df_question_2.price_each * df_question_2.quantity_ordered)\n",
    "df_question_2 = df_question_2.select(sum(df_question_2.total))\n",
    "# Resposta: O produto mais vendido foi a 1992 Ferrari Red com faturamento de $52978.28 "
   ]
  },
  {
   "cell_type": "code",
   "execution_count": 0,
   "metadata": {
    "application/vnd.databricks.v1+cell": {
     "cellMetadata": {
      "byteLimit": 2048000,
      "rowLimit": 10000
     },
     "inputWidgets": {},
     "nuid": "00dc60f5-6b11-48b0-8905-0435214c0283",
     "showTitle": false,
     "title": ""
    }
   },
   "outputs": [
    {
     "output_type": "stream",
     "name": "stdout",
     "output_type": "stream",
     "text": [
      "+----------+\n|sum(total)|\n+----------+\n|  52978.28|\n+----------+\n\n"
     ]
    }
   ],
   "source": [
    "df_question_2.show()"
   ]
  },
  {
   "cell_type": "code",
   "execution_count": 0,
   "metadata": {
    "application/vnd.databricks.v1+cell": {
     "cellMetadata": {
      "byteLimit": 2048000,
      "rowLimit": 10000
     },
     "inputWidgets": {},
     "nuid": "df804e82-0195-4e05-bd5c-f9793587baad",
     "showTitle": false,
     "title": ""
    }
   },
   "outputs": [],
   "source": [
    "# Questão 3\n",
    "\n",
    "# bringing table offices\n",
    "table = \"offices\"\n",
    "df_offices = (spark.read\n",
    "  .format(\"jdbc\")\n",
    "  .option(\"driver\", driver)\n",
    "  .option(\"url\", url)\n",
    "  .option(\"dbtable\", table)\n",
    "  .option(\"user\", user)\n",
    "  .option(\"password\", password)\n",
    "  .load()\n",
    ")\n",
    "\n",
    "# bringing table employees\n",
    "table = \"employees\"\n",
    "df_employees = (spark.read\n",
    "  .format(\"jdbc\")\n",
    "  .option(\"driver\", driver)\n",
    "  .option(\"url\", url)\n",
    "  .option(\"dbtable\", table)\n",
    "  .option(\"user\", user)\n",
    "  .option(\"password\", password)\n",
    "  .load()\n",
    ")"
   ]
  },
  {
   "cell_type": "code",
   "execution_count": 0,
   "metadata": {
    "application/vnd.databricks.v1+cell": {
     "cellMetadata": {
      "byteLimit": 2048000,
      "rowLimit": 10000
     },
     "inputWidgets": {},
     "nuid": "b3910a90-b74c-4294-be30-f2d5da5261c1",
     "showTitle": false,
     "title": ""
    }
   },
   "outputs": [
    {
     "output_type": "stream",
     "name": "stdout",
     "output_type": "stream",
     "text": [
      "+----------+---------+-------------------------------------+\n|first_name|last_name|regexp_replace(email, (^[^@]*), *, 1)|\n+----------+---------+-------------------------------------+\n|      Mami|    Nishi|                 *@classicmodelcar...|\n|   Yoshimi|     Kato|                 *@classicmodelcar...|\n+----------+---------+-------------------------------------+\n\n"
     ]
    }
   ],
   "source": [
    "df_question_3 = df_offices.join(df_employees, on='office_code',how='inner')\n",
    "df_question_3 = df_question_3.filter(df_question_3[\"country\"]=='Japan').select('first_name','last_name','email')\n",
    "df_question_3 = df_question_3.select('first_name','last_name',regexp_replace('email','(^[^@]*)','*'))\n",
    "df_question_3.show()"
   ]
  },
  {
   "cell_type": "code",
   "execution_count": 0,
   "metadata": {
    "application/vnd.databricks.v1+cell": {
     "cellMetadata": {
      "byteLimit": 2048000,
      "rowLimit": 10000
     },
     "inputWidgets": {},
     "nuid": "06773fd6-1461-4895-83ef-f609e2d2c1ba",
     "showTitle": false,
     "title": ""
    }
   },
   "outputs": [],
   "source": [
    "df_question_1 = df_question_1.select([col(c).alias(\n",
    "        c.replace( '(', '')\n",
    "        .replace( ')', '')\n",
    "        .replace( ',', '')\n",
    "        .replace( ';', '')\n",
    "        .replace( '{', '')\n",
    "        .replace( '}', '')\n",
    "        .replace( '\\n', '')\n",
    "        .replace( '\\t', '')\n",
    "        .replace( ' ', '_')\n",
    "    ) for c in df_question_1.columns]).orderBy(col('sum(quantity_ordered)').desc())\n",
    "\n",
    "df_question_2 = df_question_2.select([col(c).alias(\n",
    "        c.replace( '(', '')\n",
    "        .replace( ')', '')\n",
    "        .replace( ',', '')\n",
    "        .replace( ';', '')\n",
    "        .replace( '{', '')\n",
    "        .replace( '}', '')\n",
    "        .replace( '\\n', '')\n",
    "        .replace( '\\t', '')\n",
    "        .replace( ' ', '_')\n",
    "    ) for c in df_question_2.columns])\n",
    "\n",
    "df_question_3 = df_question_3.select([col(c).alias(\n",
    "        c.replace( '(', '')\n",
    "        .replace( ')', '')\n",
    "        .replace( ',', '')\n",
    "        .replace( ';', '')\n",
    "        .replace( '{', '')\n",
    "        .replace( '}', '')\n",
    "        .replace( '\\n', '')\n",
    "        .replace( '\\t', '')\n",
    "        .replace( ' ', '_')\n",
    "    ) for c in df_question_3.columns])"
   ]
  },
  {
   "cell_type": "code",
   "execution_count": 0,
   "metadata": {
    "application/vnd.databricks.v1+cell": {
     "cellMetadata": {
      "byteLimit": 2048000,
      "rowLimit": 10000
     },
     "inputWidgets": {},
     "nuid": "cf620cdb-df95-43e5-860d-eef2c62543b6",
     "showTitle": false,
     "title": ""
    }
   },
   "outputs": [],
   "source": [
    "df_question_1.write.mode(\"overwrite\").format(\"delta\").saveAsTable('question1_pyspark')\n",
    "df_question_2.write.mode(\"overwrite\").format(\"delta\").saveAsTable('question2_pyspark')\n",
    "df_question_3.write.mode(\"overwrite\").format(\"delta\").saveAsTable('question3_pyspark')"
   ]
  }
 ],
 "metadata": {
  "application/vnd.databricks.v1+notebook": {
   "dashboards": [],
   "language": "python",
   "notebookMetadata": {
    "pythonIndentUnit": 4
   },
   "notebookName": "Test RNP",
   "widgets": {}
  }
 },
 "nbformat": 4,
 "nbformat_minor": 0
}
